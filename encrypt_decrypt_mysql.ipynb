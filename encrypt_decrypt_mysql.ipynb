{
 "cells": [
  {
   "cell_type": "code",
   "execution_count": 13,
   "metadata": {},
   "outputs": [],
   "source": [
    "import mysql.connector\n",
    "\n",
    "def create_db_connection():\n",
    "    return mysql.connector.connect(\n",
    "        host=\"localhost\",\n",
    "        user=\"root\",\n",
    "        password=\"mysql@123root\",\n",
    "        database=\"connection\"\n",
    "    )"
   ]
  },
  {
   "cell_type": "code",
   "execution_count": null,
   "metadata": {},
   "outputs": [],
   "source": [
    "import bcrypt"
   ]
  },
  {
   "cell_type": "code",
   "execution_count": 19,
   "metadata": {},
   "outputs": [],
   "source": [
    "def register_user():\n",
    "    username = input(\"Enter a username: \")\n",
    "    password = input(\"Enter a password: \")\n",
    "\n",
    "    hashed_password = bcrypt.hashpw(password.encode('utf-8'), bcrypt.gensalt())\n",
    "\n",
    "    connection = create_db_connection()\n",
    "    cursor = connection.cursor()\n",
    "\n",
    "    insert_query = \"INSERT INTO users (username, password) VALUES (%s, %s)\"\n",
    "    data = (username, hashed_password)\n",
    "\n",
    "    cursor.execute(insert_query, data)\n",
    "    connection.commit()\n",
    "\n",
    "    print(\"User registered successfully.\")\n",
    "    cursor.close()\n",
    "    connection.close()"
   ]
  },
  {
   "cell_type": "code",
   "execution_count": 20,
   "metadata": {},
   "outputs": [
    {
     "name": "stdout",
     "output_type": "stream",
     "text": [
      "User registered successfully.\n"
     ]
    }
   ],
   "source": [
    "register_user()"
   ]
  },
  {
   "cell_type": "code",
   "execution_count": 21,
   "metadata": {},
   "outputs": [],
   "source": [
    "def login_user():\n",
    "    username = input(\"Enter your username: \")\n",
    "    password = input(\"Enter your password: \")\n",
    "\n",
    "    connection = create_db_connection()\n",
    "    cursor = connection.cursor()\n",
    "\n",
    "    select_query = \"SELECT username, password FROM users WHERE username = %s\"\n",
    "    data = (username,)\n",
    "\n",
    "    cursor.execute(select_query, data)\n",
    "    user_data = cursor.fetchone()\n",
    "\n",
    "    if user_data:\n",
    "        stored_username, stored_password = user_data\n",
    "\n",
    "        # stored_password = b'$2b$12$zDJO8gZM9EFC88OC3aKXdeLR0gVXTgoEheP.hsGeeKCDTRWfg9S.O'\n",
    "        if bcrypt.checkpw(password.encode('utf-8'), stored_password.encode('utf-8')):\n",
    "            print(\"Login successful. Welcome,\", username)\n",
    "        else:\n",
    "            print(\"Incorrect password. Access denied.\")\n",
    "    else:\n",
    "        print(\"User not found. Access denied.\")\n",
    "\n",
    "    cursor.close()\n",
    "    connection.close()"
   ]
  },
  {
   "cell_type": "code",
   "execution_count": 22,
   "metadata": {},
   "outputs": [
    {
     "name": "stdout",
     "output_type": "stream",
     "text": [
      "Login successful. Welcome, fresh@gmail.com\n"
     ]
    }
   ],
   "source": [
    "login_user()"
   ]
  }
 ],
 "metadata": {
  "kernelspec": {
   "display_name": "base",
   "language": "python",
   "name": "python3"
  },
  "language_info": {
   "codemirror_mode": {
    "name": "ipython",
    "version": 3
   },
   "file_extension": ".py",
   "mimetype": "text/x-python",
   "name": "python",
   "nbconvert_exporter": "python",
   "pygments_lexer": "ipython3",
   "version": "3.11.5"
  }
 },
 "nbformat": 4,
 "nbformat_minor": 2
}
